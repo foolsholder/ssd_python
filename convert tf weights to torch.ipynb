{
 "cells": [
  {
   "cell_type": "code",
   "execution_count": 1,
   "metadata": {},
   "outputs": [
    {
     "name": "stderr",
     "output_type": "stream",
     "text": [
      "2021-08-29 03:19:02.279761: I tensorflow/stream_executor/platform/default/dso_loader.cc:48] Successfully opened dynamic library libcudart.so.10.1\n"
     ]
    },
    {
     "data": {
      "text/plain": [
       "'2.3.0'"
      ]
     },
     "execution_count": 1,
     "metadata": {},
     "output_type": "execute_result"
    }
   ],
   "source": [
    "from tf_version import SSD300v2 as tf_ssd\n",
    "from torch_version import SSD300v2 as torch_ssd\n",
    "from torchsummary import summary\n",
    "\n",
    "import torch\n",
    "import tensorflow as tf\n",
    "import numpy as np\n",
    "tf.__version__"
   ]
  },
  {
   "cell_type": "code",
   "execution_count": 2,
   "metadata": {},
   "outputs": [
    {
     "name": "stdout",
     "output_type": "stream",
     "text": [
      "----------------------------------------------------------------\n",
      "        Layer (type)               Output Shape         Param #\n",
      "================================================================\n",
      "            Conv2d-1         [-1, 64, 300, 300]           1,792\n",
      "            Conv2d-2         [-1, 64, 300, 300]          36,928\n",
      "         MaxPool2d-3         [-1, 64, 150, 150]               0\n",
      "            Conv2d-4        [-1, 128, 150, 150]          73,856\n",
      "            Conv2d-5        [-1, 128, 150, 150]         147,584\n",
      "         MaxPool2d-6          [-1, 128, 75, 75]               0\n",
      "            Conv2d-7          [-1, 256, 75, 75]         295,168\n",
      "            Conv2d-8          [-1, 256, 75, 75]         590,080\n",
      "            Conv2d-9          [-1, 256, 75, 75]         590,080\n",
      "        ZeroPad2d-10          [-1, 256, 76, 76]               0\n",
      "        MaxPool2d-11          [-1, 256, 38, 38]               0\n",
      "           Conv2d-12          [-1, 512, 38, 38]       1,180,160\n",
      "           Conv2d-13          [-1, 512, 38, 38]       2,359,808\n",
      "           Conv2d-14          [-1, 512, 38, 38]       2,359,808\n",
      "        MaxPool2d-15          [-1, 512, 19, 19]               0\n",
      "           Conv2d-16          [-1, 512, 19, 19]       2,359,808\n",
      "           Conv2d-17          [-1, 512, 19, 19]       2,359,808\n",
      "           Conv2d-18          [-1, 512, 19, 19]       2,359,808\n",
      "        MaxPool2d-19          [-1, 512, 19, 19]               0\n",
      "           Conv2d-20         [-1, 1024, 19, 19]       4,719,616\n",
      "           Conv2d-21         [-1, 1024, 19, 19]       1,049,600\n",
      "           Conv2d-22          [-1, 256, 19, 19]         262,400\n",
      "        ZeroPad2d-23          [-1, 256, 21, 21]               0\n",
      "           Conv2d-24          [-1, 512, 10, 10]       1,180,160\n",
      "           Conv2d-25          [-1, 128, 10, 10]          65,664\n",
      "        ZeroPad2d-26          [-1, 128, 12, 12]               0\n",
      "           Conv2d-27            [-1, 256, 5, 5]         295,168\n",
      "           Conv2d-28            [-1, 128, 5, 5]          32,896\n",
      "           Conv2d-29            [-1, 256, 3, 3]         295,168\n",
      "        Normalize-30          [-1, 512, 38, 38]               0\n",
      "           Conv2d-31           [-1, 12, 38, 38]          55,308\n",
      "          Flatten-32                [-1, 17328]               0\n",
      "           Conv2d-33           [-1, 63, 38, 38]         290,367\n",
      "          Flatten-34                [-1, 90972]               0\n",
      "         PriorBox-35              [-1, 4332, 8]               0\n",
      "           Conv2d-36           [-1, 24, 19, 19]         221,208\n",
      "          Flatten-37                 [-1, 8664]               0\n",
      "           Conv2d-38          [-1, 126, 19, 19]       1,161,342\n",
      "          Flatten-39                [-1, 45486]               0\n",
      "         PriorBox-40              [-1, 2166, 8]               0\n",
      "           Conv2d-41           [-1, 24, 10, 10]         110,616\n",
      "          Flatten-42                 [-1, 2400]               0\n",
      "           Conv2d-43          [-1, 126, 10, 10]         580,734\n",
      "          Flatten-44                [-1, 12600]               0\n",
      "         PriorBox-45               [-1, 600, 8]               0\n",
      "           Conv2d-46             [-1, 24, 5, 5]          55,320\n",
      "          Flatten-47                  [-1, 600]               0\n",
      "           Conv2d-48            [-1, 126, 5, 5]         290,430\n",
      "          Flatten-49                 [-1, 3150]               0\n",
      "         PriorBox-50               [-1, 150, 8]               0\n",
      "           Conv2d-51             [-1, 24, 3, 3]          55,320\n",
      "          Flatten-52                  [-1, 216]               0\n",
      "           Conv2d-53            [-1, 126, 3, 3]         290,430\n",
      "          Flatten-54                 [-1, 1134]               0\n",
      "         PriorBox-55                [-1, 54, 8]               0\n",
      "           Linear-56                   [-1, 24]           6,168\n",
      "           Linear-57                  [-1, 126]          32,382\n",
      "         PriorBox-58                 [-1, 6, 8]               0\n",
      "================================================================\n",
      "Total params: 25,764,985\n",
      "Trainable params: 25,764,985\n",
      "Non-trainable params: 0\n",
      "----------------------------------------------------------------\n",
      "Input size (MB): 1.03\n",
      "Forward/backward pass size (MB): 236.15\n",
      "Params size (MB): 98.29\n",
      "Estimated Total Size (MB): 335.46\n",
      "----------------------------------------------------------------\n"
     ]
    },
    {
     "name": "stderr",
     "output_type": "stream",
     "text": [
      "/home/thea/2021/lib/python3.7/site-packages/torch/nn/functional.py:718: UserWarning: Named tensors and all their associated APIs are an experimental feature and subject to change. Please do not use them for anything important until they are released as stable. (Triggered internally at  /pytorch/c10/core/TensorImpl.h:1156.)\n",
      "  return torch.max_pool2d(input, kernel_size, stride, padding, dilation, ceil_mode)\n"
     ]
    }
   ],
   "source": [
    "torch_model = torch_ssd((300, 300, 3), num_classes=21)\n",
    "torch_model.float()\n",
    "torch_model.eval()\n",
    "with torch.no_grad():\n",
    "    summary(torch_model.to('cuda'), (3, 300, 300))"
   ]
  },
  {
   "cell_type": "code",
   "execution_count": 3,
   "metadata": {
    "scrolled": false
   },
   "outputs": [
    {
     "name": "stderr",
     "output_type": "stream",
     "text": [
      "2021-08-29 03:19:16.140168: I tensorflow/stream_executor/platform/default/dso_loader.cc:48] Successfully opened dynamic library libcuda.so.1\n",
      "2021-08-29 03:19:16.140282: I tensorflow/stream_executor/cuda/cuda_gpu_executor.cc:982] successful NUMA node read from SysFS had negative value (-1), but there must be at least one NUMA node, so returning NUMA node zero\n",
      "2021-08-29 03:19:16.140662: I tensorflow/core/common_runtime/gpu/gpu_device.cc:1716] Found device 0 with properties: \n",
      "pciBusID: 0000:01:00.0 name: GeForce GTX 1070 computeCapability: 6.1\n",
      "coreClock: 1.7465GHz coreCount: 15 deviceMemorySize: 7.93GiB deviceMemoryBandwidth: 238.66GiB/s\n",
      "2021-08-29 03:19:16.140676: I tensorflow/stream_executor/platform/default/dso_loader.cc:48] Successfully opened dynamic library libcudart.so.10.1\n",
      "2021-08-29 03:19:16.141841: I tensorflow/stream_executor/platform/default/dso_loader.cc:48] Successfully opened dynamic library libcublas.so.10\n",
      "2021-08-29 03:19:16.142861: I tensorflow/stream_executor/platform/default/dso_loader.cc:48] Successfully opened dynamic library libcufft.so.10\n",
      "2021-08-29 03:19:16.143041: I tensorflow/stream_executor/platform/default/dso_loader.cc:48] Successfully opened dynamic library libcurand.so.10\n",
      "2021-08-29 03:19:16.144256: I tensorflow/stream_executor/platform/default/dso_loader.cc:48] Successfully opened dynamic library libcusolver.so.10\n",
      "2021-08-29 03:19:16.144778: I tensorflow/stream_executor/platform/default/dso_loader.cc:48] Successfully opened dynamic library libcusparse.so.10\n",
      "2021-08-29 03:19:16.147192: I tensorflow/stream_executor/platform/default/dso_loader.cc:48] Successfully opened dynamic library libcudnn.so.7\n",
      "2021-08-29 03:19:16.147284: I tensorflow/stream_executor/cuda/cuda_gpu_executor.cc:982] successful NUMA node read from SysFS had negative value (-1), but there must be at least one NUMA node, so returning NUMA node zero\n",
      "2021-08-29 03:19:16.147684: I tensorflow/stream_executor/cuda/cuda_gpu_executor.cc:982] successful NUMA node read from SysFS had negative value (-1), but there must be at least one NUMA node, so returning NUMA node zero\n",
      "2021-08-29 03:19:16.148002: I tensorflow/core/common_runtime/gpu/gpu_device.cc:1858] Adding visible gpu devices: 0\n",
      "2021-08-29 03:19:16.148312: I tensorflow/core/platform/cpu_feature_guard.cc:142] This TensorFlow binary is optimized with oneAPI Deep Neural Network Library (oneDNN)to use the following CPU instructions in performance-critical operations:  AVX2 FMA\n",
      "To enable them in other operations, rebuild TensorFlow with the appropriate compiler flags.\n",
      "2021-08-29 03:19:16.174306: I tensorflow/core/platform/profile_utils/cpu_utils.cc:104] CPU Frequency: 3399980000 Hz\n",
      "2021-08-29 03:19:16.174807: I tensorflow/compiler/xla/service/service.cc:168] XLA service 0x55f82f0c7ef0 initialized for platform Host (this does not guarantee that XLA will be used). Devices:\n",
      "2021-08-29 03:19:16.174833: I tensorflow/compiler/xla/service/service.cc:176]   StreamExecutor device (0): Host, Default Version\n",
      "2021-08-29 03:19:16.177076: I tensorflow/stream_executor/cuda/cuda_gpu_executor.cc:982] successful NUMA node read from SysFS had negative value (-1), but there must be at least one NUMA node, so returning NUMA node zero\n",
      "2021-08-29 03:19:16.177940: I tensorflow/compiler/xla/service/service.cc:168] XLA service 0x55f82f15c710 initialized for platform CUDA (this does not guarantee that XLA will be used). Devices:\n",
      "2021-08-29 03:19:16.177968: I tensorflow/compiler/xla/service/service.cc:176]   StreamExecutor device (0): GeForce GTX 1070, Compute Capability 6.1\n",
      "2021-08-29 03:19:16.178197: I tensorflow/stream_executor/cuda/cuda_gpu_executor.cc:982] successful NUMA node read from SysFS had negative value (-1), but there must be at least one NUMA node, so returning NUMA node zero\n",
      "2021-08-29 03:19:16.178970: I tensorflow/core/common_runtime/gpu/gpu_device.cc:1716] Found device 0 with properties: \n",
      "pciBusID: 0000:01:00.0 name: GeForce GTX 1070 computeCapability: 6.1\n",
      "coreClock: 1.7465GHz coreCount: 15 deviceMemorySize: 7.93GiB deviceMemoryBandwidth: 238.66GiB/s\n",
      "2021-08-29 03:19:16.179008: I tensorflow/stream_executor/platform/default/dso_loader.cc:48] Successfully opened dynamic library libcudart.so.10.1\n",
      "2021-08-29 03:19:16.179041: I tensorflow/stream_executor/platform/default/dso_loader.cc:48] Successfully opened dynamic library libcublas.so.10\n",
      "2021-08-29 03:19:16.179064: I tensorflow/stream_executor/platform/default/dso_loader.cc:48] Successfully opened dynamic library libcufft.so.10\n",
      "2021-08-29 03:19:16.179084: I tensorflow/stream_executor/platform/default/dso_loader.cc:48] Successfully opened dynamic library libcurand.so.10\n",
      "2021-08-29 03:19:16.179104: I tensorflow/stream_executor/platform/default/dso_loader.cc:48] Successfully opened dynamic library libcusolver.so.10\n",
      "2021-08-29 03:19:16.179123: I tensorflow/stream_executor/platform/default/dso_loader.cc:48] Successfully opened dynamic library libcusparse.so.10\n",
      "2021-08-29 03:19:16.179143: I tensorflow/stream_executor/platform/default/dso_loader.cc:48] Successfully opened dynamic library libcudnn.so.7\n",
      "2021-08-29 03:19:16.179227: I tensorflow/stream_executor/cuda/cuda_gpu_executor.cc:982] successful NUMA node read from SysFS had negative value (-1), but there must be at least one NUMA node, so returning NUMA node zero\n",
      "2021-08-29 03:19:16.180034: I tensorflow/stream_executor/cuda/cuda_gpu_executor.cc:982] successful NUMA node read from SysFS had negative value (-1), but there must be at least one NUMA node, so returning NUMA node zero\n",
      "2021-08-29 03:19:16.180766: I tensorflow/core/common_runtime/gpu/gpu_device.cc:1858] Adding visible gpu devices: 0\n",
      "2021-08-29 03:19:16.180808: I tensorflow/stream_executor/platform/default/dso_loader.cc:48] Successfully opened dynamic library libcudart.so.10.1\n",
      "2021-08-29 03:19:16.498709: I tensorflow/core/common_runtime/gpu/gpu_device.cc:1257] Device interconnect StreamExecutor with strength 1 edge matrix:\n",
      "2021-08-29 03:19:16.498739: I tensorflow/core/common_runtime/gpu/gpu_device.cc:1263]      0 \n",
      "2021-08-29 03:19:16.498744: I tensorflow/core/common_runtime/gpu/gpu_device.cc:1276] 0:   N \n",
      "2021-08-29 03:19:16.498905: I tensorflow/stream_executor/cuda/cuda_gpu_executor.cc:982] successful NUMA node read from SysFS had negative value (-1), but there must be at least one NUMA node, so returning NUMA node zero\n",
      "2021-08-29 03:19:16.499282: I tensorflow/stream_executor/cuda/cuda_gpu_executor.cc:982] successful NUMA node read from SysFS had negative value (-1), but there must be at least one NUMA node, so returning NUMA node zero\n",
      "2021-08-29 03:19:16.499615: I tensorflow/core/common_runtime/gpu/gpu_device.cc:1402] Created TensorFlow device (/job:localhost/replica:0/task:0/device:GPU:0 with 6174 MB memory) -> physical GPU (device: 0, name: GeForce GTX 1070, pci bus id: 0000:01:00.0, compute capability: 6.1)\n"
     ]
    },
    {
     "name": "stdout",
     "output_type": "stream",
     "text": [
      "WARNING:tensorflow:Layer mbox_priorbox is casting an input tensor from dtype float64 to the layer's dtype of float32, which is new behavior in TensorFlow 2.  The layer has dtype float32 because its dtype defaults to floatx.\n",
      "\n",
      "If you intended to run this layer in float32, you can safely ignore this warning. If in doubt, this warning is likely only an issue if you are porting a TensorFlow 1.X model to TensorFlow 2.\n",
      "\n",
      "To change all layers to have dtype float64 by default, call `tf.keras.backend.set_floatx('float64')`. To change just this layer, pass dtype='float64' to the layer constructor. If you are the author of this layer, you can disable autocasting by passing autocast=False to the base Layer constructor.\n",
      "\n",
      "Model: \"functional_1\"\n",
      "__________________________________________________________________________________________________\n",
      "Layer (type)                    Output Shape         Param #     Connected to                     \n",
      "==================================================================================================\n",
      "input_1 (InputLayer)            [(None, 300, 300, 3) 0                                            \n",
      "__________________________________________________________________________________________________\n",
      "conv1_1 (Conv2D)                (None, 300, 300, 64) 1792        input_1[0][0]                    \n",
      "__________________________________________________________________________________________________\n",
      "conv1_2 (Conv2D)                (None, 300, 300, 64) 36928       conv1_1[0][0]                    \n",
      "__________________________________________________________________________________________________\n",
      "pool1 (MaxPooling2D)            (None, 150, 150, 64) 0           conv1_2[0][0]                    \n",
      "__________________________________________________________________________________________________\n",
      "conv2_1 (Conv2D)                (None, 150, 150, 128 73856       pool1[0][0]                      \n",
      "__________________________________________________________________________________________________\n",
      "conv2_2 (Conv2D)                (None, 150, 150, 128 147584      conv2_1[0][0]                    \n",
      "__________________________________________________________________________________________________\n",
      "pool2 (MaxPooling2D)            (None, 75, 75, 128)  0           conv2_2[0][0]                    \n",
      "__________________________________________________________________________________________________\n",
      "conv3_1 (Conv2D)                (None, 75, 75, 256)  295168      pool2[0][0]                      \n",
      "__________________________________________________________________________________________________\n",
      "conv3_2 (Conv2D)                (None, 75, 75, 256)  590080      conv3_1[0][0]                    \n",
      "__________________________________________________________________________________________________\n",
      "conv3_3 (Conv2D)                (None, 75, 75, 256)  590080      conv3_2[0][0]                    \n",
      "__________________________________________________________________________________________________\n",
      "pool3 (MaxPooling2D)            (None, 38, 38, 256)  0           conv3_3[0][0]                    \n",
      "__________________________________________________________________________________________________\n",
      "conv4_1 (Conv2D)                (None, 38, 38, 512)  1180160     pool3[0][0]                      \n",
      "__________________________________________________________________________________________________\n",
      "conv4_2 (Conv2D)                (None, 38, 38, 512)  2359808     conv4_1[0][0]                    \n",
      "__________________________________________________________________________________________________\n",
      "conv4_3 (Conv2D)                (None, 38, 38, 512)  2359808     conv4_2[0][0]                    \n",
      "__________________________________________________________________________________________________\n",
      "pool4 (MaxPooling2D)            (None, 19, 19, 512)  0           conv4_3[0][0]                    \n",
      "__________________________________________________________________________________________________\n",
      "conv5_1 (Conv2D)                (None, 19, 19, 512)  2359808     pool4[0][0]                      \n",
      "__________________________________________________________________________________________________\n",
      "conv5_2 (Conv2D)                (None, 19, 19, 512)  2359808     conv5_1[0][0]                    \n",
      "__________________________________________________________________________________________________\n",
      "conv5_3 (Conv2D)                (None, 19, 19, 512)  2359808     conv5_2[0][0]                    \n",
      "__________________________________________________________________________________________________\n",
      "pool5 (MaxPooling2D)            (None, 19, 19, 512)  0           conv5_3[0][0]                    \n",
      "__________________________________________________________________________________________________\n",
      "fc6 (Conv2D)                    (None, 19, 19, 1024) 4719616     pool5[0][0]                      \n",
      "__________________________________________________________________________________________________\n",
      "fc7 (Conv2D)                    (None, 19, 19, 1024) 1049600     fc6[0][0]                        \n",
      "__________________________________________________________________________________________________\n",
      "conv6_1 (Conv2D)                (None, 19, 19, 256)  262400      fc7[0][0]                        \n",
      "__________________________________________________________________________________________________\n",
      "conv6_2 (Conv2D)                (None, 10, 10, 512)  1180160     conv6_1[0][0]                    \n",
      "__________________________________________________________________________________________________\n",
      "conv7_1 (Conv2D)                (None, 10, 10, 128)  65664       conv6_2[0][0]                    \n",
      "__________________________________________________________________________________________________\n",
      "conv7_1z (ZeroPadding2D)        (None, 12, 12, 128)  0           conv7_1[0][0]                    \n",
      "__________________________________________________________________________________________________\n",
      "conv7_2 (Conv2D)                (None, 5, 5, 256)    295168      conv7_1z[0][0]                   \n",
      "__________________________________________________________________________________________________\n",
      "conv8_1 (Conv2D)                (None, 5, 5, 128)    32896       conv7_2[0][0]                    \n",
      "__________________________________________________________________________________________________\n",
      "conv4_3_norm (Normalize)        (None, 38, 38, 512)  512         conv4_3[0][0]                    \n",
      "__________________________________________________________________________________________________\n",
      "conv8_2 (Conv2D)                (None, 3, 3, 256)    295168      conv8_1[0][0]                    \n",
      "__________________________________________________________________________________________________\n",
      "pool6 (GlobalAveragePooling2D)  (None, 256)          0           conv8_2[0][0]                    \n",
      "__________________________________________________________________________________________________\n",
      "conv4_3_norm_mbox_conf (Conv2D) (None, 38, 38, 63)   290367      conv4_3_norm[0][0]               \n",
      "__________________________________________________________________________________________________\n",
      "fc7_mbox_conf (Conv2D)          (None, 19, 19, 126)  1161342     fc7[0][0]                        \n",
      "__________________________________________________________________________________________________\n",
      "conv6_2_mbox_conf (Conv2D)      (None, 10, 10, 126)  580734      conv6_2[0][0]                    \n",
      "__________________________________________________________________________________________________\n",
      "conv7_2_mbox_conf (Conv2D)      (None, 5, 5, 126)    290430      conv7_2[0][0]                    \n",
      "__________________________________________________________________________________________________\n",
      "conv8_2_mbox_conf (Conv2D)      (None, 3, 3, 126)    290430      conv8_2[0][0]                    \n",
      "__________________________________________________________________________________________________\n",
      "conv4_3_norm_mbox_loc (Conv2D)  (None, 38, 38, 12)   55308       conv4_3_norm[0][0]               \n",
      "__________________________________________________________________________________________________\n",
      "fc7_mbox_loc (Conv2D)           (None, 19, 19, 24)   221208      fc7[0][0]                        \n",
      "__________________________________________________________________________________________________\n",
      "conv6_2_mbox_loc (Conv2D)       (None, 10, 10, 24)   110616      conv6_2[0][0]                    \n",
      "__________________________________________________________________________________________________\n",
      "conv7_2_mbox_loc (Conv2D)       (None, 5, 5, 24)     55320       conv7_2[0][0]                    \n",
      "__________________________________________________________________________________________________\n",
      "conv8_2_mbox_loc (Conv2D)       (None, 3, 3, 24)     55320       conv8_2[0][0]                    \n",
      "__________________________________________________________________________________________________\n",
      "conv4_3_norm_mbox_conf_flat (Fl (None, 90972)        0           conv4_3_norm_mbox_conf[0][0]     \n",
      "__________________________________________________________________________________________________\n",
      "fc7_mbox_conf_flat (Flatten)    (None, 45486)        0           fc7_mbox_conf[0][0]              \n",
      "__________________________________________________________________________________________________\n",
      "conv6_2_mbox_conf_flat (Flatten (None, 12600)        0           conv6_2_mbox_conf[0][0]          \n",
      "__________________________________________________________________________________________________\n",
      "conv7_2_mbox_conf_flat (Flatten (None, 3150)         0           conv7_2_mbox_conf[0][0]          \n",
      "__________________________________________________________________________________________________\n",
      "conv8_2_mbox_conf_flat (Flatten (None, 1134)         0           conv8_2_mbox_conf[0][0]          \n",
      "__________________________________________________________________________________________________\n",
      "pool6_mbox_conf_flat (Dense)    (None, 126)          32382       pool6[0][0]                      \n",
      "__________________________________________________________________________________________________\n",
      "conv4_3_norm_mbox_loc_flat (Fla (None, 17328)        0           conv4_3_norm_mbox_loc[0][0]      \n",
      "__________________________________________________________________________________________________\n",
      "fc7_mbox_loc_flat (Flatten)     (None, 8664)         0           fc7_mbox_loc[0][0]               \n",
      "__________________________________________________________________________________________________\n",
      "conv6_2_mbox_loc_flat (Flatten) (None, 2400)         0           conv6_2_mbox_loc[0][0]           \n",
      "__________________________________________________________________________________________________\n",
      "conv7_2_mbox_loc_flat (Flatten) (None, 600)          0           conv7_2_mbox_loc[0][0]           \n",
      "__________________________________________________________________________________________________\n",
      "conv8_2_mbox_loc_flat (Flatten) (None, 216)          0           conv8_2_mbox_loc[0][0]           \n",
      "__________________________________________________________________________________________________\n",
      "pool6_mbox_loc_flat (Dense)     (None, 24)           6168        pool6[0][0]                      \n",
      "__________________________________________________________________________________________________\n",
      "mbox_conf (Concatenate)         (None, 153468)       0           conv4_3_norm_mbox_conf_flat[0][0]\n",
      "                                                                 fc7_mbox_conf_flat[0][0]         \n",
      "                                                                 conv6_2_mbox_conf_flat[0][0]     \n",
      "                                                                 conv7_2_mbox_conf_flat[0][0]     \n",
      "                                                                 conv8_2_mbox_conf_flat[0][0]     \n",
      "                                                                 pool6_mbox_conf_flat[0][0]       \n",
      "__________________________________________________________________________________________________\n",
      "pool6_reshaped (Reshape)        (None, 1, 1, 256)    0           pool6[0][0]                      \n",
      "__________________________________________________________________________________________________\n",
      "mbox_loc (Concatenate)          (None, 29232)        0           conv4_3_norm_mbox_loc_flat[0][0] \n",
      "                                                                 fc7_mbox_loc_flat[0][0]          \n",
      "                                                                 conv6_2_mbox_loc_flat[0][0]      \n",
      "                                                                 conv7_2_mbox_loc_flat[0][0]      \n",
      "                                                                 conv8_2_mbox_loc_flat[0][0]      \n",
      "                                                                 pool6_mbox_loc_flat[0][0]        \n",
      "__________________________________________________________________________________________________\n",
      "mbox_conf_logits (Reshape)      (None, 7308, 21)     0           mbox_conf[0][0]                  \n",
      "__________________________________________________________________________________________________\n",
      "conv4_3_norm_mbox_priorbox (Pri (None, 4332, 8)      0           conv4_3_norm[0][0]               \n",
      "__________________________________________________________________________________________________\n",
      "fc7_mbox_priorbox (PriorBox)    (None, 2166, 8)      0           fc7[0][0]                        \n",
      "__________________________________________________________________________________________________\n",
      "conv6_2_mbox_priorbox (PriorBox (None, 600, 8)       0           conv6_2[0][0]                    \n",
      "__________________________________________________________________________________________________\n",
      "conv7_2_mbox_priorbox (PriorBox (None, 150, 8)       0           conv7_2[0][0]                    \n",
      "__________________________________________________________________________________________________\n",
      "conv8_2_mbox_priorbox (PriorBox (None, 54, 8)        0           conv8_2[0][0]                    \n",
      "__________________________________________________________________________________________________\n",
      "pool6_mbox_priorbox (PriorBox)  (None, 6, 8)         0           pool6_reshaped[0][0]             \n",
      "__________________________________________________________________________________________________\n",
      "mbox_loc_final (Reshape)        (None, 7308, 4)      0           mbox_loc[0][0]                   \n",
      "__________________________________________________________________________________________________\n",
      "mbox_conf_final (Activation)    (None, 7308, 21)     0           mbox_conf_logits[0][0]           \n",
      "__________________________________________________________________________________________________\n",
      "mbox_priorbox (Concatenate)     (None, 7308, 8)      0           conv4_3_norm_mbox_priorbox[0][0] \n",
      "                                                                 fc7_mbox_priorbox[0][0]          \n",
      "                                                                 conv6_2_mbox_priorbox[0][0]      \n",
      "                                                                 conv7_2_mbox_priorbox[0][0]      \n",
      "                                                                 conv8_2_mbox_priorbox[0][0]      \n",
      "                                                                 pool6_mbox_priorbox[0][0]        \n",
      "__________________________________________________________________________________________________\n",
      "predictions (Concatenate)       (None, 7308, 33)     0           mbox_loc_final[0][0]             \n",
      "                                                                 mbox_conf_final[0][0]            \n",
      "                                                                 mbox_priorbox[0][0]              \n",
      "==================================================================================================\n",
      "Total params: 25,765,497\n",
      "Trainable params: 25,765,497\n",
      "Non-trainable params: 0\n",
      "__________________________________________________________________________________________________\n"
     ]
    }
   ],
   "source": [
    "tf_model = tf_ssd((300, 300, 3), num_classes=21)\n",
    "tf_model.summary()"
   ]
  },
  {
   "cell_type": "code",
   "execution_count": 4,
   "metadata": {},
   "outputs": [],
   "source": [
    "all_names = [name for name, par in torch_model.named_parameters()]\n",
    "all_names = set(all_names)"
   ]
  },
  {
   "cell_type": "code",
   "execution_count": 5,
   "metadata": {},
   "outputs": [
    {
     "name": "stdout",
     "output_type": "stream",
     "text": [
      "conv1_1 weight\n",
      "conv1_1 bias\n",
      "conv1_2 weight\n",
      "conv1_2 bias\n",
      "conv2_1 weight\n",
      "conv2_1 bias\n",
      "conv2_2 weight\n",
      "conv2_2 bias\n",
      "conv3_1 weight\n",
      "conv3_1 bias\n",
      "conv3_2 weight\n",
      "conv3_2 bias\n",
      "conv3_3 weight\n",
      "conv3_3 bias\n",
      "conv4_1 weight\n",
      "conv4_1 bias\n",
      "conv4_2 weight\n",
      "conv4_2 bias\n",
      "conv4_3 weight\n",
      "conv4_3 bias\n",
      "conv5_1 weight\n",
      "conv5_1 bias\n",
      "conv5_2 weight\n",
      "conv5_2 bias\n",
      "conv5_3 weight\n",
      "conv5_3 bias\n",
      "fc6 weight\n",
      "fc6 bias\n",
      "fc7 weight\n",
      "fc7 bias\n",
      "conv6_1 weight\n",
      "conv6_1 bias\n",
      "conv6_2 weight\n",
      "conv6_2 bias\n",
      "conv7_1 weight\n",
      "conv7_1 bias\n",
      "conv7_2 weight\n",
      "conv7_2 bias\n",
      "conv8_1 weight\n",
      "conv8_1 bias\n",
      "conv8_2 weight\n",
      "conv8_2 bias\n",
      "conv4_3_norm conv4_3_norm_gamma\n",
      "conv4_3_norm_mbox_loc weight\n",
      "conv4_3_norm_mbox_loc bias\n",
      "conv4_3_norm_mbox_conf weight\n",
      "conv4_3_norm_mbox_conf bias\n",
      "fc7_mbox_conf weight\n",
      "fc7_mbox_conf bias\n",
      "fc7_mbox_loc weight\n",
      "fc7_mbox_loc bias\n",
      "conv6_2_mbox_conf weight\n",
      "conv6_2_mbox_conf bias\n",
      "conv6_2_mbox_loc weight\n",
      "conv6_2_mbox_loc bias\n",
      "conv7_2_mbox_conf weight\n",
      "conv7_2_mbox_conf bias\n",
      "conv7_2_mbox_loc weight\n",
      "conv7_2_mbox_loc bias\n",
      "conv8_2_mbox_conf weight\n",
      "conv8_2_mbox_conf bias\n",
      "conv8_2_mbox_loc weight\n",
      "conv8_2_mbox_loc bias\n",
      "pool6_mbox_loc_flat weight\n",
      "pool6_mbox_loc_flat bias\n",
      "pool6_mbox_conf_flat weight\n",
      "pool6_mbox_conf_flat bias\n"
     ]
    }
   ],
   "source": [
    "fst_step = []\n",
    "\n",
    "with torch.no_grad():\n",
    "    torch_model.cpu()\n",
    "    for name, par in torch_model.named_parameters():\n",
    "        ss = name.split('.')\n",
    "        layer_name, par_subname = ss[0], ss[1]\n",
    "        \n",
    "        #print(layer_name, par_subname)\n",
    "        \n",
    "        if par_subname in ['weight', 'bias'] and ('conv' in layer_name or 'fc' in layer_name):\n",
    "            fst_step += [name]\n",
    "            print(layer_name, par_subname)\n",
    "            \n",
    "            weights = tf_model.get_layer(layer_name).weights\n",
    "            \n",
    "            if par_subname == 'weight':\n",
    "                weight = weights[0].numpy().transpose([3, 2, 0, 1])\n",
    "                par[:, :, :, :] = torch.tensor(weight)\n",
    "            else:\n",
    "                bias = weights[1].numpy()\n",
    "                par[:] = torch.tensor(bias)\n",
    "                \n",
    "        elif par_subname in ['weight', 'bias']:\n",
    "            fst_step += [name]\n",
    "            print(layer_name, par_subname)\n",
    "            \n",
    "            weights = tf_model.get_layer(layer_name).weights\n",
    "            \n",
    "            if par_subname == 'weight':\n",
    "                weight = weights[0].numpy().transpose([1, 0])\n",
    "                par[:, :] = torch.tensor(weight)\n",
    "            else:\n",
    "                bias = weights[1].numpy()\n",
    "                par[:] = torch.tensor(bias)\n",
    "        elif par_subname == 'conv4_3_norm_gamma':\n",
    "            fst_step += [name]\n",
    "            print(layer_name, par_subname)\n",
    "            \n",
    "            weights = tf_model.get_layer(layer_name).weights\n",
    "            \n",
    "            weight = weights[0].numpy().reshape(1, 512, 1, 1)\n",
    "            par[:, :, :, :] = torch.tensor(weight)\n",
    "        else:\n",
    "            raise Exception('what????')\n",
    "            \n",
    "fst_step = set(fst_step)"
   ]
  },
  {
   "cell_type": "code",
   "execution_count": 6,
   "metadata": {},
   "outputs": [
    {
     "data": {
      "text/plain": [
       "set()"
      ]
     },
     "execution_count": 6,
     "metadata": {},
     "output_type": "execute_result"
    }
   ],
   "source": [
    "all_names - fst_step"
   ]
  },
  {
   "cell_type": "code",
   "execution_count": 7,
   "metadata": {},
   "outputs": [],
   "source": [
    "torch.save(torch_model.state_dict(), 'SSD300v2_torch.pth')"
   ]
  },
  {
   "cell_type": "code",
   "execution_count": 8,
   "metadata": {},
   "outputs": [],
   "source": [
    "frame = (np.random.randn(300, 300, 3) * 255).astype(np.float32)\n",
    "frame_torch = np.copy(frame.transpose([2, 0, 1]))"
   ]
  },
  {
   "cell_type": "code",
   "execution_count": 9,
   "metadata": {},
   "outputs": [],
   "source": [
    "with torch.no_grad():\n",
    "    torch_model.eval()\n",
    "    torch_model.float()\n",
    "    torch_out = torch_model(torch.tensor(frame_torch)[None]).numpy()"
   ]
  },
  {
   "cell_type": "code",
   "execution_count": 11,
   "metadata": {},
   "outputs": [
    {
     "name": "stderr",
     "output_type": "stream",
     "text": [
      "2021-08-29 03:19:31.406660: I tensorflow/stream_executor/platform/default/dso_loader.cc:48] Successfully opened dynamic library libcublas.so.10\n",
      "2021-08-29 03:19:31.508763: I tensorflow/stream_executor/platform/default/dso_loader.cc:48] Successfully opened dynamic library libcudnn.so.7\n"
     ]
    }
   ],
   "source": [
    "tf_out = tf_model.predict(frame[None])[1]"
   ]
  },
  {
   "cell_type": "code",
   "execution_count": 12,
   "metadata": {},
   "outputs": [
    {
     "data": {
      "text/plain": [
       "((1, 7308, 33),\n",
       " array([[[ 1.0973424 ,  0.03411341, -0.77243614, ...,  0.1       ,\n",
       "           0.2       ,  0.2       ],\n",
       "         [-0.5467808 , -1.0718251 ,  0.26539892, ...,  0.1       ,\n",
       "           0.2       ,  0.2       ],\n",
       "         [-1.1499668 , -0.03241672,  0.8324232 , ...,  0.1       ,\n",
       "           0.2       ,  0.2       ],\n",
       "         ...,\n",
       "         [ 0.00574203, -0.03945673, -0.01702614, ...,  0.1       ,\n",
       "           0.2       ,  0.2       ],\n",
       "         [ 0.05235558,  0.00177961, -0.02288734, ...,  0.1       ,\n",
       "           0.2       ,  0.2       ],\n",
       "         [ 0.01338555,  0.02763657,  0.0285685 , ...,  0.1       ,\n",
       "           0.2       ,  0.2       ]]], dtype=float32))"
      ]
     },
     "execution_count": 12,
     "metadata": {},
     "output_type": "execute_result"
    }
   ],
   "source": [
    "tf_out.shape, tf_out"
   ]
  },
  {
   "cell_type": "code",
   "execution_count": 13,
   "metadata": {},
   "outputs": [
    {
     "data": {
      "text/plain": [
       "(1, 7308, 33)"
      ]
     },
     "execution_count": 13,
     "metadata": {},
     "output_type": "execute_result"
    }
   ],
   "source": [
    "torch_out.shape"
   ]
  },
  {
   "cell_type": "code",
   "execution_count": null,
   "metadata": {},
   "outputs": [],
   "source": []
  }
 ],
 "metadata": {
  "kernelspec": {
   "display_name": "Python 3 (ipykernel)",
   "language": "python",
   "name": "python3"
  },
  "language_info": {
   "codemirror_mode": {
    "name": "ipython",
    "version": 3
   },
   "file_extension": ".py",
   "mimetype": "text/x-python",
   "name": "python",
   "nbconvert_exporter": "python",
   "pygments_lexer": "ipython3",
   "version": "3.7.9"
  }
 },
 "nbformat": 4,
 "nbformat_minor": 4
}
