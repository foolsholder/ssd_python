{
 "cells": [
  {
   "cell_type": "code",
   "execution_count": 1,
   "metadata": {},
   "outputs": [
    {
     "name": "stderr",
     "output_type": "stream",
     "text": [
      "2021-08-29 02:49:54.674946: I tensorflow/stream_executor/platform/default/dso_loader.cc:48] Successfully opened dynamic library libcudart.so.10.1\n"
     ]
    },
    {
     "data": {
      "text/plain": [
       "'2.3.0'"
      ]
     },
     "execution_count": 1,
     "metadata": {},
     "output_type": "execute_result"
    }
   ],
   "source": [
    "from tf_version import SSD300v2 as tf_ssd\n",
    "from torch_version import SSD300v2 as torch_ssd\n",
    "from torchsummary import summary\n",
    "\n",
    "import torch\n",
    "import tensorflow as tf\n",
    "import numpy as np\n",
    "tf.__version__"
   ]
  },
  {
   "cell_type": "code",
   "execution_count": 2,
   "metadata": {},
   "outputs": [
    {
     "data": {
      "text/plain": [
       "SSD300v2(\n",
       "  (conv1_1): Conv2d(3, 64, kernel_size=(3, 3), stride=(1, 1), padding=(1, 1))\n",
       "  (conv1_2): Conv2d(64, 64, kernel_size=(3, 3), stride=(1, 1), padding=(1, 1))\n",
       "  (pool1): MaxPool2d(kernel_size=(2, 2), stride=(2, 2), padding=0, dilation=1, ceil_mode=False)\n",
       "  (conv2_1): Conv2d(64, 128, kernel_size=(3, 3), stride=(1, 1), padding=(1, 1))\n",
       "  (conv2_2): Conv2d(128, 128, kernel_size=(3, 3), stride=(1, 1), padding=(1, 1))\n",
       "  (pool2): MaxPool2d(kernel_size=(2, 2), stride=(2, 2), padding=0, dilation=1, ceil_mode=False)\n",
       "  (conv3_1): Conv2d(128, 256, kernel_size=(3, 3), stride=(1, 1), padding=(1, 1))\n",
       "  (conv3_2): Conv2d(256, 256, kernel_size=(3, 3), stride=(1, 1), padding=(1, 1))\n",
       "  (conv3_3): Conv2d(256, 256, kernel_size=(3, 3), stride=(1, 1), padding=(1, 1))\n",
       "  (conv3_3z): ZeroPad2d(padding=(0, 1, 0, 1), value=0.0)\n",
       "  (pool3): MaxPool2d(kernel_size=(2, 2), stride=(2, 2), padding=0, dilation=1, ceil_mode=False)\n",
       "  (conv4_1): Conv2d(256, 512, kernel_size=(3, 3), stride=(1, 1), padding=(1, 1))\n",
       "  (conv4_2): Conv2d(512, 512, kernel_size=(3, 3), stride=(1, 1), padding=(1, 1))\n",
       "  (conv4_3): Conv2d(512, 512, kernel_size=(3, 3), stride=(1, 1), padding=(1, 1))\n",
       "  (pool4): MaxPool2d(kernel_size=(2, 2), stride=(2, 2), padding=0, dilation=1, ceil_mode=False)\n",
       "  (conv5_1): Conv2d(512, 512, kernel_size=(3, 3), stride=(1, 1), padding=(1, 1))\n",
       "  (conv5_2): Conv2d(512, 512, kernel_size=(3, 3), stride=(1, 1), padding=(1, 1))\n",
       "  (conv5_3): Conv2d(512, 512, kernel_size=(3, 3), stride=(1, 1), padding=(1, 1))\n",
       "  (pool5): MaxPool2d(kernel_size=(3, 3), stride=(1, 1), padding=(1, 1), dilation=1, ceil_mode=False)\n",
       "  (fc6): Conv2d(512, 1024, kernel_size=(3, 3), stride=(1, 1), padding=(6, 6), dilation=(6, 6))\n",
       "  (fc7): Conv2d(1024, 1024, kernel_size=(1, 1), stride=(1, 1))\n",
       "  (conv6_1): Conv2d(1024, 256, kernel_size=(1, 1), stride=(1, 1))\n",
       "  (conv6_1z): ZeroPad2d(padding=(1, 1, 1, 1), value=0.0)\n",
       "  (conv6_2): Conv2d(256, 512, kernel_size=(3, 3), stride=(2, 2))\n",
       "  (conv7_1): Conv2d(512, 128, kernel_size=(1, 1), stride=(1, 1))\n",
       "  (conv7_1z): ZeroPad2d(padding=(1, 1, 1, 1), value=0.0)\n",
       "  (conv7_2): Conv2d(128, 256, kernel_size=(3, 3), stride=(2, 2))\n",
       "  (conv8_1): Conv2d(256, 128, kernel_size=(1, 1), stride=(1, 1))\n",
       "  (conv8_2): Conv2d(128, 256, kernel_size=(3, 3), stride=(2, 2), padding=(1, 1))\n",
       "  (conv4_3_norm): Normalize()\n",
       "  (conv4_3_norm_mbox_loc): Conv2d(512, 12, kernel_size=(3, 3), stride=(1, 1), padding=(1, 1))\n",
       "  (conv4_3_norm_mbox_loc_flat): Flatten(start_dim=1, end_dim=-1)\n",
       "  (conv4_3_norm_mbox_conf): Conv2d(512, 63, kernel_size=(3, 3), stride=(1, 1), padding=(1, 1))\n",
       "  (conv4_3_norm_mbox_conf_flat): Flatten(start_dim=1, end_dim=-1)\n",
       "  (conv4_3_norm_mbox_priorbox): PriorBox()\n",
       "  (fc7_mbox_conf): Conv2d(1024, 126, kernel_size=(3, 3), stride=(1, 1), padding=(1, 1))\n",
       "  (fc7_mbox_conf_flat): Flatten(start_dim=1, end_dim=-1)\n",
       "  (fc7_mbox_loc): Conv2d(1024, 24, kernel_size=(3, 3), stride=(1, 1), padding=(1, 1))\n",
       "  (fc7_mbox_loc_flat): Flatten(start_dim=1, end_dim=-1)\n",
       "  (fc7_mbox_priorbox): PriorBox()\n",
       "  (conv6_2_mbox_conf): Conv2d(512, 126, kernel_size=(3, 3), stride=(1, 1), padding=(1, 1))\n",
       "  (conv6_2_mbox_conf_flat): Flatten(start_dim=1, end_dim=-1)\n",
       "  (conv6_2_mbox_loc): Conv2d(512, 24, kernel_size=(3, 3), stride=(1, 1), padding=(1, 1))\n",
       "  (conv6_2_mbox_loc_flat): Flatten(start_dim=1, end_dim=-1)\n",
       "  (conv6_2_mbox_priorbox): PriorBox()\n",
       "  (conv7_2_mbox_conf): Conv2d(256, 126, kernel_size=(3, 3), stride=(1, 1), padding=(1, 1))\n",
       "  (conv7_2_mbox_conf_flat): Flatten(start_dim=1, end_dim=-1)\n",
       "  (conv7_2_mbox_loc): Conv2d(256, 24, kernel_size=(3, 3), stride=(1, 1), padding=(1, 1))\n",
       "  (conv7_2_mbox_loc_flat): Flatten(start_dim=1, end_dim=-1)\n",
       "  (conv7_2_mbox_priorbox): PriorBox()\n",
       "  (conv8_2_mbox_conf): Conv2d(256, 126, kernel_size=(3, 3), stride=(1, 1), padding=(1, 1))\n",
       "  (conv8_2_mbox_conf_flat): Flatten(start_dim=1, end_dim=-1)\n",
       "  (conv8_2_mbox_loc): Conv2d(256, 24, kernel_size=(3, 3), stride=(1, 1), padding=(1, 1))\n",
       "  (conv8_2_mbox_loc_flat): Flatten(start_dim=1, end_dim=-1)\n",
       "  (conv8_2_mbox_priorbox): PriorBox()\n",
       "  (pool6_mbox_loc_flat): Linear(in_features=256, out_features=24, bias=True)\n",
       "  (pool6_mbox_conf_flat): Linear(in_features=256, out_features=126, bias=True)\n",
       "  (pool6_mbox_priorbox): PriorBox()\n",
       ")"
      ]
     },
     "execution_count": 2,
     "metadata": {},
     "output_type": "execute_result"
    }
   ],
   "source": [
    "torch_model = torch_ssd((300, 300, 3), num_classes=21)\n",
    "torch_model.float()\n",
    "torch_model.eval()\n",
    "#with torch.no_grad():\n",
    "#    summary(torch_model.to('cuda'), (3, 300, 300))"
   ]
  },
  {
   "cell_type": "code",
   "execution_count": 3,
   "metadata": {
    "scrolled": true
   },
   "outputs": [
    {
     "name": "stderr",
     "output_type": "stream",
     "text": [
      "2021-08-29 02:49:55.891839: I tensorflow/stream_executor/platform/default/dso_loader.cc:48] Successfully opened dynamic library libcuda.so.1\n",
      "2021-08-29 02:49:55.903670: I tensorflow/stream_executor/cuda/cuda_gpu_executor.cc:982] successful NUMA node read from SysFS had negative value (-1), but there must be at least one NUMA node, so returning NUMA node zero\n",
      "2021-08-29 02:49:55.904056: I tensorflow/core/common_runtime/gpu/gpu_device.cc:1716] Found device 0 with properties: \n",
      "pciBusID: 0000:01:00.0 name: GeForce GTX 1070 computeCapability: 6.1\n",
      "coreClock: 1.7465GHz coreCount: 15 deviceMemorySize: 7.93GiB deviceMemoryBandwidth: 238.66GiB/s\n",
      "2021-08-29 02:49:55.904071: I tensorflow/stream_executor/platform/default/dso_loader.cc:48] Successfully opened dynamic library libcudart.so.10.1\n",
      "2021-08-29 02:49:55.905309: I tensorflow/stream_executor/platform/default/dso_loader.cc:48] Successfully opened dynamic library libcublas.so.10\n",
      "2021-08-29 02:49:55.906384: I tensorflow/stream_executor/platform/default/dso_loader.cc:48] Successfully opened dynamic library libcufft.so.10\n",
      "2021-08-29 02:49:55.906552: I tensorflow/stream_executor/platform/default/dso_loader.cc:48] Successfully opened dynamic library libcurand.so.10\n",
      "2021-08-29 02:49:55.907885: I tensorflow/stream_executor/platform/default/dso_loader.cc:48] Successfully opened dynamic library libcusolver.so.10\n",
      "2021-08-29 02:49:55.908554: I tensorflow/stream_executor/platform/default/dso_loader.cc:48] Successfully opened dynamic library libcusparse.so.10\n",
      "2021-08-29 02:49:55.911340: I tensorflow/stream_executor/platform/default/dso_loader.cc:48] Successfully opened dynamic library libcudnn.so.7\n",
      "2021-08-29 02:49:55.911441: I tensorflow/stream_executor/cuda/cuda_gpu_executor.cc:982] successful NUMA node read from SysFS had negative value (-1), but there must be at least one NUMA node, so returning NUMA node zero\n",
      "2021-08-29 02:49:55.911879: I tensorflow/stream_executor/cuda/cuda_gpu_executor.cc:982] successful NUMA node read from SysFS had negative value (-1), but there must be at least one NUMA node, so returning NUMA node zero\n",
      "2021-08-29 02:49:55.912245: I tensorflow/core/common_runtime/gpu/gpu_device.cc:1858] Adding visible gpu devices: 0\n",
      "2021-08-29 02:49:55.912546: I tensorflow/core/platform/cpu_feature_guard.cc:142] This TensorFlow binary is optimized with oneAPI Deep Neural Network Library (oneDNN)to use the following CPU instructions in performance-critical operations:  AVX2 FMA\n",
      "To enable them in other operations, rebuild TensorFlow with the appropriate compiler flags.\n",
      "2021-08-29 02:49:55.916947: I tensorflow/core/platform/profile_utils/cpu_utils.cc:104] CPU Frequency: 3399980000 Hz\n",
      "2021-08-29 02:49:55.917171: I tensorflow/compiler/xla/service/service.cc:168] XLA service 0x55c353d2b670 initialized for platform Host (this does not guarantee that XLA will be used). Devices:\n",
      "2021-08-29 02:49:55.917184: I tensorflow/compiler/xla/service/service.cc:176]   StreamExecutor device (0): Host, Default Version\n",
      "2021-08-29 02:49:55.995486: I tensorflow/stream_executor/cuda/cuda_gpu_executor.cc:982] successful NUMA node read from SysFS had negative value (-1), but there must be at least one NUMA node, so returning NUMA node zero\n",
      "2021-08-29 02:49:55.995932: I tensorflow/compiler/xla/service/service.cc:168] XLA service 0x55c35368d910 initialized for platform CUDA (this does not guarantee that XLA will be used). Devices:\n",
      "2021-08-29 02:49:55.995946: I tensorflow/compiler/xla/service/service.cc:176]   StreamExecutor device (0): GeForce GTX 1070, Compute Capability 6.1\n",
      "2021-08-29 02:49:55.996102: I tensorflow/stream_executor/cuda/cuda_gpu_executor.cc:982] successful NUMA node read from SysFS had negative value (-1), but there must be at least one NUMA node, so returning NUMA node zero\n",
      "2021-08-29 02:49:55.996566: I tensorflow/core/common_runtime/gpu/gpu_device.cc:1716] Found device 0 with properties: \n",
      "pciBusID: 0000:01:00.0 name: GeForce GTX 1070 computeCapability: 6.1\n",
      "coreClock: 1.7465GHz coreCount: 15 deviceMemorySize: 7.93GiB deviceMemoryBandwidth: 238.66GiB/s\n",
      "2021-08-29 02:49:55.996597: I tensorflow/stream_executor/platform/default/dso_loader.cc:48] Successfully opened dynamic library libcudart.so.10.1\n",
      "2021-08-29 02:49:55.996624: I tensorflow/stream_executor/platform/default/dso_loader.cc:48] Successfully opened dynamic library libcublas.so.10\n",
      "2021-08-29 02:49:55.996640: I tensorflow/stream_executor/platform/default/dso_loader.cc:48] Successfully opened dynamic library libcufft.so.10\n",
      "2021-08-29 02:49:55.996654: I tensorflow/stream_executor/platform/default/dso_loader.cc:48] Successfully opened dynamic library libcurand.so.10\n",
      "2021-08-29 02:49:55.996668: I tensorflow/stream_executor/platform/default/dso_loader.cc:48] Successfully opened dynamic library libcusolver.so.10\n",
      "2021-08-29 02:49:55.996680: I tensorflow/stream_executor/platform/default/dso_loader.cc:48] Successfully opened dynamic library libcusparse.so.10\n",
      "2021-08-29 02:49:55.996693: I tensorflow/stream_executor/platform/default/dso_loader.cc:48] Successfully opened dynamic library libcudnn.so.7\n",
      "2021-08-29 02:49:55.996754: I tensorflow/stream_executor/cuda/cuda_gpu_executor.cc:982] successful NUMA node read from SysFS had negative value (-1), but there must be at least one NUMA node, so returning NUMA node zero\n",
      "2021-08-29 02:49:55.997172: I tensorflow/stream_executor/cuda/cuda_gpu_executor.cc:982] successful NUMA node read from SysFS had negative value (-1), but there must be at least one NUMA node, so returning NUMA node zero\n",
      "2021-08-29 02:49:55.997527: I tensorflow/core/common_runtime/gpu/gpu_device.cc:1858] Adding visible gpu devices: 0\n",
      "2021-08-29 02:49:55.997549: I tensorflow/stream_executor/platform/default/dso_loader.cc:48] Successfully opened dynamic library libcudart.so.10.1\n",
      "2021-08-29 02:49:56.316634: I tensorflow/core/common_runtime/gpu/gpu_device.cc:1257] Device interconnect StreamExecutor with strength 1 edge matrix:\n",
      "2021-08-29 02:49:56.316659: I tensorflow/core/common_runtime/gpu/gpu_device.cc:1263]      0 \n",
      "2021-08-29 02:49:56.316664: I tensorflow/core/common_runtime/gpu/gpu_device.cc:1276] 0:   N \n",
      "2021-08-29 02:49:56.316826: I tensorflow/stream_executor/cuda/cuda_gpu_executor.cc:982] successful NUMA node read from SysFS had negative value (-1), but there must be at least one NUMA node, so returning NUMA node zero\n",
      "2021-08-29 02:49:56.317226: I tensorflow/stream_executor/cuda/cuda_gpu_executor.cc:982] successful NUMA node read from SysFS had negative value (-1), but there must be at least one NUMA node, so returning NUMA node zero\n",
      "2021-08-29 02:49:56.317585: I tensorflow/core/common_runtime/gpu/gpu_device.cc:1402] Created TensorFlow device (/job:localhost/replica:0/task:0/device:GPU:0 with 7141 MB memory) -> physical GPU (device: 0, name: GeForce GTX 1070, pci bus id: 0000:01:00.0, compute capability: 6.1)\n"
     ]
    },
    {
     "name": "stdout",
     "output_type": "stream",
     "text": [
      "WARNING:tensorflow:Layer mbox_priorbox is casting an input tensor from dtype float64 to the layer's dtype of float32, which is new behavior in TensorFlow 2.  The layer has dtype float32 because its dtype defaults to floatx.\n",
      "\n",
      "If you intended to run this layer in float32, you can safely ignore this warning. If in doubt, this warning is likely only an issue if you are porting a TensorFlow 1.X model to TensorFlow 2.\n",
      "\n",
      "To change all layers to have dtype float64 by default, call `tf.keras.backend.set_floatx('float64')`. To change just this layer, pass dtype='float64' to the layer constructor. If you are the author of this layer, you can disable autocasting by passing autocast=False to the base Layer constructor.\n",
      "\n"
     ]
    }
   ],
   "source": [
    "tf_model = tf_ssd((300, 300, 3), num_classes=21)\n",
    "#tf_model.summary()"
   ]
  },
  {
   "cell_type": "code",
   "execution_count": 4,
   "metadata": {},
   "outputs": [
    {
     "data": {
      "text/plain": [
       "<All keys matched successfully>"
      ]
     },
     "execution_count": 4,
     "metadata": {},
     "output_type": "execute_result"
    }
   ],
   "source": [
    "tf_model.load_weights('weights_SSD300.hdf5', by_name=True)\n",
    "torch_model.load_state_dict(torch.load('SSD300v2_torch.pth'))"
   ]
  },
  {
   "cell_type": "code",
   "execution_count": 5,
   "metadata": {},
   "outputs": [],
   "source": [
    "frame = (np.random.randn(300, 300, 3) * 255).astype(np.float32)\n",
    "frame_torch = np.copy(frame.transpose([2, 0, 1]))"
   ]
  },
  {
   "cell_type": "code",
   "execution_count": 6,
   "metadata": {},
   "outputs": [
    {
     "name": "stderr",
     "output_type": "stream",
     "text": [
      "/home/thea/2021/lib/python3.7/site-packages/torch/nn/functional.py:718: UserWarning: Named tensors and all their associated APIs are an experimental feature and subject to change. Please do not use them for anything important until they are released as stable. (Triggered internally at  /pytorch/c10/core/TensorImpl.h:1156.)\n",
      "  return torch.max_pool2d(input, kernel_size, stride, padding, dilation, ceil_mode)\n"
     ]
    },
    {
     "data": {
      "text/plain": [
       "((1, 7308, 33),\n",
       " array([[[ 1.20047498e-02, -5.93187094e-01, -2.88489521e-01, ...,\n",
       "           1.00000000e-01,  2.00000000e-01,  2.00000000e-01],\n",
       "         [ 9.95802879e-03, -7.78673440e-02, -2.67096728e-01, ...,\n",
       "           1.00000000e-01,  2.00000000e-01,  2.00000000e-01],\n",
       "         [-3.59781444e-01, -2.60872811e-01, -5.65625250e-01, ...,\n",
       "           1.00000000e-01,  2.00000000e-01,  2.00000000e-01],\n",
       "         ...,\n",
       "         [ 5.39384186e-01, -1.40195526e-03,  7.78938353e-01, ...,\n",
       "           1.00000000e-01,  2.00000000e-01,  2.00000000e-01],\n",
       "         [ 3.24449658e-01, -2.26651236e-01, -1.31434584e+00, ...,\n",
       "           1.00000000e-01,  2.00000000e-01,  2.00000000e-01],\n",
       "         [ 7.59095073e-01,  5.51224574e-02,  1.93609285e+00, ...,\n",
       "           1.00000000e-01,  2.00000000e-01,  2.00000000e-01]]]))"
      ]
     },
     "execution_count": 6,
     "metadata": {},
     "output_type": "execute_result"
    }
   ],
   "source": [
    "with torch.no_grad():\n",
    "    torch_out = torch_model(torch.tensor(frame_torch)[None]).numpy()\n",
    "torch_out.shape, torch_out"
   ]
  },
  {
   "cell_type": "code",
   "execution_count": 7,
   "metadata": {},
   "outputs": [
    {
     "name": "stderr",
     "output_type": "stream",
     "text": [
      "2021-08-29 02:49:57.881335: I tensorflow/stream_executor/platform/default/dso_loader.cc:48] Successfully opened dynamic library libcublas.so.10\n",
      "2021-08-29 02:49:57.972552: I tensorflow/stream_executor/platform/default/dso_loader.cc:48] Successfully opened dynamic library libcudnn.so.7\n"
     ]
    },
    {
     "data": {
      "text/plain": [
       "((1, 7308, 33),\n",
       " array([[[ 1.2004881e-02, -5.9318697e-01, -2.8848940e-01, ...,\n",
       "           1.0000000e-01,  2.0000000e-01,  2.0000000e-01],\n",
       "         [ 9.9576050e-03, -7.7867121e-02, -2.6709747e-01, ...,\n",
       "           1.0000000e-01,  2.0000000e-01,  2.0000000e-01],\n",
       "         [-3.5978121e-01, -2.6087278e-01, -5.6562555e-01, ...,\n",
       "           1.0000000e-01,  2.0000000e-01,  2.0000000e-01],\n",
       "         ...,\n",
       "         [ 5.3938448e-01, -1.4018212e-03,  7.7893865e-01, ...,\n",
       "           1.0000000e-01,  2.0000000e-01,  2.0000000e-01],\n",
       "         [ 3.2444954e-01, -2.2665162e-01, -1.3143457e+00, ...,\n",
       "           1.0000000e-01,  2.0000000e-01,  2.0000000e-01],\n",
       "         [ 7.5909531e-01,  5.5122502e-02,  1.9360934e+00, ...,\n",
       "           1.0000000e-01,  2.0000000e-01,  2.0000000e-01]]], dtype=float32))"
      ]
     },
     "execution_count": 7,
     "metadata": {},
     "output_type": "execute_result"
    }
   ],
   "source": [
    "tf_out = tf_model.predict(frame[None])[1]\n",
    "tf_out.shape, tf_out"
   ]
  },
  {
   "cell_type": "code",
   "execution_count": 8,
   "metadata": {},
   "outputs": [
    {
     "data": {
      "text/plain": [
       "(7.62939453125e-06, 9.265810422026834e-08)"
      ]
     },
     "execution_count": 8,
     "metadata": {},
     "output_type": "execute_result"
    }
   ],
   "source": [
    "try:\n",
    "    a, b = np.max(np.abs(torch_out - tf_out)), np.mean(np.abs(torch_out - tf_out))\n",
    "except:\n",
    "    a, b = 'a', 'b'\n",
    "a, b"
   ]
  },
  {
   "cell_type": "code",
   "execution_count": 9,
   "metadata": {},
   "outputs": [
    {
     "data": {
      "text/plain": [
       "('a', 'b')"
      ]
     },
     "execution_count": 9,
     "metadata": {},
     "output_type": "execute_result"
    }
   ],
   "source": [
    "try:\n",
    "    a, b = np.max(np.abs(torch_out - tf_out.transpose([0, 3, 1, 2]))), np.mean(torch_out - tf_out.transpose([0, 3, 1, 2]))\n",
    "except:\n",
    "    a, b = 'a', 'b'\n",
    "a, b"
   ]
  },
  {
   "cell_type": "code",
   "execution_count": 10,
   "metadata": {},
   "outputs": [
    {
     "data": {
      "text/plain": [
       "array([[[[-0.00292147,  0.00901721,  0.01918894],\n",
       "         [ 0.00808298,  0.00191519,  0.00481817],\n",
       "         [ 0.00608263, -0.00210195,  0.00298199]],\n",
       "\n",
       "        [[ 0.00783363, -0.00370542,  0.02037198],\n",
       "         [ 0.02561151,  0.01210603,  0.01751088],\n",
       "         [ 0.00153678,  0.01628629,  0.01919375]],\n",
       "\n",
       "        [[ 0.01239109,  0.01266858,  0.01743064],\n",
       "         [-0.0031695 ,  0.0281014 ,  0.02572742],\n",
       "         [ 0.01256821,  0.0180959 ,  0.00611735]],\n",
       "\n",
       "        ...,\n",
       "\n",
       "        [[ 0.00086207,  0.01278962,  0.01083817],\n",
       "         [ 0.01484153,  0.04083962,  0.00452134],\n",
       "         [ 0.01683346,  0.00717383,  0.02132946]],\n",
       "\n",
       "        [[ 0.01155616,  0.00960493,  0.02923486],\n",
       "         [ 0.01148837,  0.01271693,  0.01997035],\n",
       "         [ 0.01456796,  0.01266645,  0.02131977]],\n",
       "\n",
       "        [[-0.00422126, -0.00311682, -0.01185097],\n",
       "         [ 0.00977793, -0.00636645, -0.01513981],\n",
       "         [-0.00393042,  0.0003102 ,  0.00475151]]],\n",
       "\n",
       "\n",
       "       [[[ 0.00212998, -0.01229266, -0.00330767],\n",
       "         [ 0.01711095,  0.01522921,  0.00676674],\n",
       "         [ 0.01770116,  0.0128929 , -0.00165968]],\n",
       "\n",
       "        [[-0.02052089, -0.01091841, -0.01521881],\n",
       "         [-0.00328344, -0.01960166,  0.005803  ],\n",
       "         [-0.00381862, -0.02006907, -0.0133995 ]],\n",
       "\n",
       "        [[-0.01083575,  0.00549437, -0.00448951],\n",
       "         [-0.01669904, -0.00933768,  0.00642895],\n",
       "         [-0.00805282,  0.00955712, -0.0110853 ]],\n",
       "\n",
       "        ...,\n",
       "\n",
       "        [[-0.01726732,  0.00370206,  0.00361699],\n",
       "         [ 0.00621186,  0.010045  , -0.01126936],\n",
       "         [ 0.00923229,  0.01570823, -0.02213709]],\n",
       "\n",
       "        [[ 0.00178146,  0.00293319, -0.01211281],\n",
       "         [ 0.01882775, -0.01799905,  0.00611875],\n",
       "         [-0.01644904,  0.01592058,  0.00969033]],\n",
       "\n",
       "        [[ 0.01200158, -0.00209364, -0.01040554],\n",
       "         [-0.01905327, -0.01489197,  0.00526903],\n",
       "         [ 0.01873588,  0.00609249, -0.0103781 ]]],\n",
       "\n",
       "\n",
       "       [[[ 0.01643028,  0.01519866,  0.00937133],\n",
       "         [-0.00555961, -0.01617631, -0.01613668],\n",
       "         [ 0.01098352, -0.01303466, -0.00435577]],\n",
       "\n",
       "        [[ 0.01176537, -0.00130666, -0.01124965],\n",
       "         [-0.00866373, -0.00109717, -0.00795723],\n",
       "         [-0.01099045,  0.01714242,  0.01542395]],\n",
       "\n",
       "        [[-0.00231279, -0.01162193,  0.00195233],\n",
       "         [-0.01062957, -0.00350137,  0.01224783],\n",
       "         [ 0.00483423,  0.01659845, -0.01929511]],\n",
       "\n",
       "        ...,\n",
       "\n",
       "        [[-0.0199342 , -0.00411871, -0.00535582],\n",
       "         [-0.00624473, -0.00178756,  0.00483869],\n",
       "         [-0.00833928, -0.01740034, -0.01637913]],\n",
       "\n",
       "        [[ 0.00722613,  0.00722888,  0.00995887],\n",
       "         [-0.0021135 , -0.00640355, -0.01358702],\n",
       "         [-0.01716283, -0.00123407,  0.01085867]],\n",
       "\n",
       "        [[ 0.00356398, -0.01224975, -0.02082088],\n",
       "         [-0.01663684, -0.01037896,  0.00843931],\n",
       "         [ 0.01572659, -0.01082772, -0.00294919]]],\n",
       "\n",
       "\n",
       "       ...,\n",
       "\n",
       "\n",
       "       [[[ 0.00807425, -0.01668785, -0.00485672],\n",
       "         [-0.00900641,  0.00491386, -0.0202551 ],\n",
       "         [-0.01889879, -0.00714159,  0.00318172]],\n",
       "\n",
       "        [[ 0.00610297, -0.01824174, -0.0164359 ],\n",
       "         [ 0.0062335 , -0.00885301,  0.00890535],\n",
       "         [ 0.00191391,  0.00797203, -0.01352954]],\n",
       "\n",
       "        [[ 0.0042396 ,  0.00639381,  0.01537467],\n",
       "         [ 0.01973904,  0.00108507,  0.00117321],\n",
       "         [-0.01209686, -0.00057146, -0.00711879]],\n",
       "\n",
       "        ...,\n",
       "\n",
       "        [[-0.01181262, -0.00376978,  0.00215942],\n",
       "         [-0.0156194 , -0.00602335,  0.0060885 ],\n",
       "         [ 0.01203207,  0.00618552,  0.01236956]],\n",
       "\n",
       "        [[-0.01503552,  0.0091372 ,  0.01419669],\n",
       "         [ 0.00464699, -0.01179756,  0.0075604 ],\n",
       "         [ 0.01444385,  0.01155674, -0.02156769]],\n",
       "\n",
       "        [[-0.01665486, -0.00751861, -0.01467982],\n",
       "         [-0.0170654 ,  0.018574  , -0.0141071 ],\n",
       "         [ 0.01606578,  0.01759296, -0.008718  ]]],\n",
       "\n",
       "\n",
       "       [[[-0.02013444, -0.01404575, -0.00803281],\n",
       "         [-0.01825591,  0.0011812 , -0.00777545],\n",
       "         [-0.0036882 , -0.00541372, -0.01480842]],\n",
       "\n",
       "        [[-0.0176814 ,  0.00147119,  0.01044864],\n",
       "         [-0.01806592, -0.01034714, -0.01210896],\n",
       "         [-0.02122516,  0.00929589, -0.00995879]],\n",
       "\n",
       "        [[-0.01171439, -0.01745663,  0.00972072],\n",
       "         [ 0.00970338,  0.00248725, -0.01489863],\n",
       "         [ 0.00973261, -0.00909346,  0.01271287]],\n",
       "\n",
       "        ...,\n",
       "\n",
       "        [[-0.01465858,  0.01684775,  0.00052919],\n",
       "         [ 0.00567169,  0.01713412, -0.01426819],\n",
       "         [-0.00249007, -0.02078341, -0.00377182]],\n",
       "\n",
       "        [[-0.00505996,  0.00796321,  0.00718118],\n",
       "         [ 0.01160331, -0.02222309, -0.00521265],\n",
       "         [-0.0094552 ,  0.01299957, -0.00579392]],\n",
       "\n",
       "        [[ 0.01558592,  0.00443799,  0.0001162 ],\n",
       "         [ 0.00865107,  0.00054072,  0.01724326],\n",
       "         [ 0.01513392,  0.01592936,  0.00352296]]],\n",
       "\n",
       "\n",
       "       [[[-0.01481938, -0.0174616 , -0.00555193],\n",
       "         [-0.00344675,  0.01240978, -0.01527223],\n",
       "         [ 0.01225198, -0.00936367,  0.01260305]],\n",
       "\n",
       "        [[-0.01869284,  0.00593323, -0.01302914],\n",
       "         [ 0.00745432,  0.00333587,  0.01428393],\n",
       "         [ 0.00139432, -0.00346053,  0.00746392]],\n",
       "\n",
       "        [[ 0.0280046 ,  0.0083261 , -0.01414309],\n",
       "         [-0.00410967,  0.0322691 ,  0.00704518],\n",
       "         [-0.01235901, -0.00356566, -0.00680085]],\n",
       "\n",
       "        ...,\n",
       "\n",
       "        [[-0.02106072,  0.01285363, -0.01051226],\n",
       "         [-0.01053664,  0.00275015, -0.01465177],\n",
       "         [-0.00599941,  0.00134484, -0.00364755]],\n",
       "\n",
       "        [[-0.00351996,  0.0030829 , -0.00256669],\n",
       "         [-0.00297189,  0.0086559 ,  0.0040711 ],\n",
       "         [-0.01345287,  0.00476584,  0.01818844]],\n",
       "\n",
       "        [[-0.01848808,  0.01684723, -0.01418047],\n",
       "         [-0.0128453 ,  0.01605666,  0.00881475],\n",
       "         [ 0.00552151,  0.01182471, -0.00135008]]]], dtype=float32)"
      ]
     },
     "execution_count": 10,
     "metadata": {},
     "output_type": "execute_result"
    }
   ],
   "source": [
    "tf_model.get_layer('conv4_3_norm_mbox_conf').weights[0].numpy().transpose([3, 2, 0, 1])"
   ]
  },
  {
   "cell_type": "code",
   "execution_count": 11,
   "metadata": {},
   "outputs": [
    {
     "data": {
      "text/plain": [
       "Parameter containing:\n",
       "tensor([[[[-0.0029,  0.0090,  0.0192],\n",
       "          [ 0.0081,  0.0019,  0.0048],\n",
       "          [ 0.0061, -0.0021,  0.0030]],\n",
       "\n",
       "         [[ 0.0078, -0.0037,  0.0204],\n",
       "          [ 0.0256,  0.0121,  0.0175],\n",
       "          [ 0.0015,  0.0163,  0.0192]],\n",
       "\n",
       "         [[ 0.0124,  0.0127,  0.0174],\n",
       "          [-0.0032,  0.0281,  0.0257],\n",
       "          [ 0.0126,  0.0181,  0.0061]],\n",
       "\n",
       "         ...,\n",
       "\n",
       "         [[ 0.0009,  0.0128,  0.0108],\n",
       "          [ 0.0148,  0.0408,  0.0045],\n",
       "          [ 0.0168,  0.0072,  0.0213]],\n",
       "\n",
       "         [[ 0.0116,  0.0096,  0.0292],\n",
       "          [ 0.0115,  0.0127,  0.0200],\n",
       "          [ 0.0146,  0.0127,  0.0213]],\n",
       "\n",
       "         [[-0.0042, -0.0031, -0.0119],\n",
       "          [ 0.0098, -0.0064, -0.0151],\n",
       "          [-0.0039,  0.0003,  0.0048]]],\n",
       "\n",
       "\n",
       "        [[[ 0.0021, -0.0123, -0.0033],\n",
       "          [ 0.0171,  0.0152,  0.0068],\n",
       "          [ 0.0177,  0.0129, -0.0017]],\n",
       "\n",
       "         [[-0.0205, -0.0109, -0.0152],\n",
       "          [-0.0033, -0.0196,  0.0058],\n",
       "          [-0.0038, -0.0201, -0.0134]],\n",
       "\n",
       "         [[-0.0108,  0.0055, -0.0045],\n",
       "          [-0.0167, -0.0093,  0.0064],\n",
       "          [-0.0081,  0.0096, -0.0111]],\n",
       "\n",
       "         ...,\n",
       "\n",
       "         [[-0.0173,  0.0037,  0.0036],\n",
       "          [ 0.0062,  0.0100, -0.0113],\n",
       "          [ 0.0092,  0.0157, -0.0221]],\n",
       "\n",
       "         [[ 0.0018,  0.0029, -0.0121],\n",
       "          [ 0.0188, -0.0180,  0.0061],\n",
       "          [-0.0164,  0.0159,  0.0097]],\n",
       "\n",
       "         [[ 0.0120, -0.0021, -0.0104],\n",
       "          [-0.0191, -0.0149,  0.0053],\n",
       "          [ 0.0187,  0.0061, -0.0104]]],\n",
       "\n",
       "\n",
       "        [[[ 0.0164,  0.0152,  0.0094],\n",
       "          [-0.0056, -0.0162, -0.0161],\n",
       "          [ 0.0110, -0.0130, -0.0044]],\n",
       "\n",
       "         [[ 0.0118, -0.0013, -0.0112],\n",
       "          [-0.0087, -0.0011, -0.0080],\n",
       "          [-0.0110,  0.0171,  0.0154]],\n",
       "\n",
       "         [[-0.0023, -0.0116,  0.0020],\n",
       "          [-0.0106, -0.0035,  0.0122],\n",
       "          [ 0.0048,  0.0166, -0.0193]],\n",
       "\n",
       "         ...,\n",
       "\n",
       "         [[-0.0199, -0.0041, -0.0054],\n",
       "          [-0.0062, -0.0018,  0.0048],\n",
       "          [-0.0083, -0.0174, -0.0164]],\n",
       "\n",
       "         [[ 0.0072,  0.0072,  0.0100],\n",
       "          [-0.0021, -0.0064, -0.0136],\n",
       "          [-0.0172, -0.0012,  0.0109]],\n",
       "\n",
       "         [[ 0.0036, -0.0122, -0.0208],\n",
       "          [-0.0166, -0.0104,  0.0084],\n",
       "          [ 0.0157, -0.0108, -0.0029]]],\n",
       "\n",
       "\n",
       "        ...,\n",
       "\n",
       "\n",
       "        [[[ 0.0081, -0.0167, -0.0049],\n",
       "          [-0.0090,  0.0049, -0.0203],\n",
       "          [-0.0189, -0.0071,  0.0032]],\n",
       "\n",
       "         [[ 0.0061, -0.0182, -0.0164],\n",
       "          [ 0.0062, -0.0089,  0.0089],\n",
       "          [ 0.0019,  0.0080, -0.0135]],\n",
       "\n",
       "         [[ 0.0042,  0.0064,  0.0154],\n",
       "          [ 0.0197,  0.0011,  0.0012],\n",
       "          [-0.0121, -0.0006, -0.0071]],\n",
       "\n",
       "         ...,\n",
       "\n",
       "         [[-0.0118, -0.0038,  0.0022],\n",
       "          [-0.0156, -0.0060,  0.0061],\n",
       "          [ 0.0120,  0.0062,  0.0124]],\n",
       "\n",
       "         [[-0.0150,  0.0091,  0.0142],\n",
       "          [ 0.0046, -0.0118,  0.0076],\n",
       "          [ 0.0144,  0.0116, -0.0216]],\n",
       "\n",
       "         [[-0.0167, -0.0075, -0.0147],\n",
       "          [-0.0171,  0.0186, -0.0141],\n",
       "          [ 0.0161,  0.0176, -0.0087]]],\n",
       "\n",
       "\n",
       "        [[[-0.0201, -0.0140, -0.0080],\n",
       "          [-0.0183,  0.0012, -0.0078],\n",
       "          [-0.0037, -0.0054, -0.0148]],\n",
       "\n",
       "         [[-0.0177,  0.0015,  0.0104],\n",
       "          [-0.0181, -0.0103, -0.0121],\n",
       "          [-0.0212,  0.0093, -0.0100]],\n",
       "\n",
       "         [[-0.0117, -0.0175,  0.0097],\n",
       "          [ 0.0097,  0.0025, -0.0149],\n",
       "          [ 0.0097, -0.0091,  0.0127]],\n",
       "\n",
       "         ...,\n",
       "\n",
       "         [[-0.0147,  0.0168,  0.0005],\n",
       "          [ 0.0057,  0.0171, -0.0143],\n",
       "          [-0.0025, -0.0208, -0.0038]],\n",
       "\n",
       "         [[-0.0051,  0.0080,  0.0072],\n",
       "          [ 0.0116, -0.0222, -0.0052],\n",
       "          [-0.0095,  0.0130, -0.0058]],\n",
       "\n",
       "         [[ 0.0156,  0.0044,  0.0001],\n",
       "          [ 0.0087,  0.0005,  0.0172],\n",
       "          [ 0.0151,  0.0159,  0.0035]]],\n",
       "\n",
       "\n",
       "        [[[-0.0148, -0.0175, -0.0056],\n",
       "          [-0.0034,  0.0124, -0.0153],\n",
       "          [ 0.0123, -0.0094,  0.0126]],\n",
       "\n",
       "         [[-0.0187,  0.0059, -0.0130],\n",
       "          [ 0.0075,  0.0033,  0.0143],\n",
       "          [ 0.0014, -0.0035,  0.0075]],\n",
       "\n",
       "         [[ 0.0280,  0.0083, -0.0141],\n",
       "          [-0.0041,  0.0323,  0.0070],\n",
       "          [-0.0124, -0.0036, -0.0068]],\n",
       "\n",
       "         ...,\n",
       "\n",
       "         [[-0.0211,  0.0129, -0.0105],\n",
       "          [-0.0105,  0.0028, -0.0147],\n",
       "          [-0.0060,  0.0013, -0.0036]],\n",
       "\n",
       "         [[-0.0035,  0.0031, -0.0026],\n",
       "          [-0.0030,  0.0087,  0.0041],\n",
       "          [-0.0135,  0.0048,  0.0182]],\n",
       "\n",
       "         [[-0.0185,  0.0168, -0.0142],\n",
       "          [-0.0128,  0.0161,  0.0088],\n",
       "          [ 0.0055,  0.0118, -0.0014]]]], requires_grad=True)"
      ]
     },
     "execution_count": 11,
     "metadata": {},
     "output_type": "execute_result"
    }
   ],
   "source": [
    "torch_model.conv4_3_norm_mbox_conf.weight"
   ]
  },
  {
   "cell_type": "code",
   "execution_count": null,
   "metadata": {},
   "outputs": [],
   "source": []
  }
 ],
 "metadata": {
  "kernelspec": {
   "display_name": "Python 3 (ipykernel)",
   "language": "python",
   "name": "python3"
  },
  "language_info": {
   "codemirror_mode": {
    "name": "ipython",
    "version": 3
   },
   "file_extension": ".py",
   "mimetype": "text/x-python",
   "name": "python",
   "nbconvert_exporter": "python",
   "pygments_lexer": "ipython3",
   "version": "3.7.9"
  }
 },
 "nbformat": 4,
 "nbformat_minor": 4
}
